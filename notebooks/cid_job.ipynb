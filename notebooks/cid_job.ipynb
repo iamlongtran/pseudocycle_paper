{
 "cells": [
  {
   "cell_type": "code",
   "execution_count": null,
   "metadata": {},
   "outputs": [],
   "source": [
    "import os, sys\n",
    "os.environ['OPENBLAS_NUM_THREADS'] = '2' # to avoid a threads overflow error on cluster\n",
    "script_dir = os.path.dirname(os.path.realpath(__file__))\n",
    "import numpy as np\n",
    "import pandas as pd\n",
    "import glob\n",
    "import matplotlib.pyplot as plt\n",
    "import seaborn as sns\n",
    "import subprocess\n",
    "\n",
    "from Bio import SeqIO\n",
    "from Bio import PDB\n",
    "\n",
    "%matplotlib inline\n",
    "pd.options.display.max_colwidth = 1000\n",
    "\n",
    "sys.path.append(f'{script_dir}/LA_scripts/software/')\n",
    "from get_rmsds_functions import TMalign\n",
    "from get_rmsds_functions import get_RMSD\n",
    "import check_interactions_to_lig\n",
    "\n",
    "from Bio.PDB.PDBParser import PDBParser\n",
    "from Bio.SeqUtils import IUPACData"
   ]
  },
  {
   "attachments": {},
   "cell_type": "markdown",
   "metadata": {},
   "source": [
    "### Break mononer to multimers\n",
    "// break original binders scaffolds into 2 monomers: monomer N and monomer C\n"
   ]
  },
  {
   "cell_type": "code",
   "execution_count": null,
   "metadata": {},
   "outputs": [],
   "source": [
    "N=[1,88]\n",
    "C=[91,256]\n",
    "ref_pdb = f'{script_dir}/pdb/P1D7_B9_no_seq.pdb'\n",
    "first,second =[],[]\n",
    "name = os.path.basename(ref_pdb)[:-4] + '_4-8'\n",
    "with open(ref_pdb,'r') as fp:\n",
    "    for line in fp:\n",
    "        if line.startswith('ATOM'):\n",
    "            res_num = int(line[22:26])\n",
    "            if res_num <= N[1] and res_num >= N[0]:\n",
    "                first.append(line.rstrip())\n",
    "            elif res_num <= C[1] and res_num >= C[0]:\n",
    "                second.append(line.rstrip())\n",
    "        elif line.startswith('HETATM') or line.startswith('TER') or line.startswith('CONECT'):\n",
    "            first.append(line.rstrip())\n",
    "            second.append(line.rstrip())\n",
    "\n",
    "with open(f'{home_dir}/inputs_cut/{name}_N.pdb','w') as fp1:\n",
    "    fp1.write('\\n'.join(first))\n",
    "with open(f'{home_dir}/inputs_cut/{name}_C.pdb','w') as fp2:\n",
    "    fp2.write('\\n'.join(second))\n"
   ]
  },
  {
   "attachments": {},
   "cell_type": "markdown",
   "metadata": {},
   "source": [
    "### ligMPNN\n",
    "// sequence design with small molecule context"
   ]
  },
  {
   "cell_type": "code",
   "execution_count": null,
   "metadata": {},
   "outputs": [],
   "source": [
    "pdb = f'{script_dir}/pdb/P1D7_B9_2_4_complex_tied_mpnn_no_seq.pdb'"
   ]
  },
  {
   "cell_type": "code",
   "execution_count": null,
   "metadata": {},
   "outputs": [],
   "source": [
    "python = 'path/to/ligMPNN/python-envs/'\n",
    "mpnn = f'path/to/ligMPNN/' #Dauparas 2023 https://doi.org/10.1101/2023.12.22.573103\n",
    "\n",
    "cmd =f'{python} {mpnn} --out_folder ./ --num_seq_per_target 250 --pdb_path pdb/P1D7_B9_2_4_complex_tied_mpnn.pdb --omit_AAs C --pack_side_chains 1 --num_packs 1 --sampling_temp \"0.1 0.2\" --use_ligand 1 --tied_positions_jsonl pdb/tied_pos.jsonl --ligand_params_path pdb/CHD.params'"
   ]
  },
  {
   "attachments": {},
   "cell_type": "markdown",
   "metadata": {},
   "source": [
    "### AlphaFold each mononer\n",
    "// af2 validate folding likelihood"
   ]
  },
  {
   "cell_type": "code",
   "execution_count": null,
   "metadata": {},
   "outputs": [],
   "source": [
    "pdbs = glob.glob('/all/mpnn/generated/pdbs')\n",
    "python = '/path/to/af2/python-envs'\n",
    "run_af2 = f'{script_dir}/LA_scripts/toolkits/run_af2.py'\n",
    "cmds = []\n",
    "for pdb in pdbs:\n",
    "    cmds.append(f\"{python} {run_af2} -python {run_af2} -pdb {pdb}\")\n"
   ]
  }
 ],
 "metadata": {
  "kernelspec": {
   "display_name": "SE3nv_dimaio",
   "language": "python",
   "name": "python3"
  },
  "language_info": {
   "codemirror_mode": {
    "name": "ipython",
    "version": 3
   },
   "file_extension": ".py",
   "mimetype": "text/x-python",
   "name": "python",
   "nbconvert_exporter": "python",
   "pygments_lexer": "ipython3",
   "version": "3.10.11"
  },
  "orig_nbformat": 4
 },
 "nbformat": 4,
 "nbformat_minor": 2
}
