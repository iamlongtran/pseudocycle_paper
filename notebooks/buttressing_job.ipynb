{
 "cells": [
  {
   "cell_type": "code",
   "execution_count": null,
   "id": "72b85ef1",
   "metadata": {},
   "outputs": [],
   "source": [
    "#source activate /software/conda/envs/SE3nv\n",
    "import sys,os\n",
    "script_dir = os.path.dirname(os.path.realpath(__file__))\n",
    "import torch \n",
    "import glob\n",
    "import numpy as np\n",
    "from tqdm import tqdm\n",
    "import matplotlib.pyplot as plt\n",
    "import pandas as pd\n",
    "import seaborn as sns\n",
    "import subprocess\n",
    "%matplotlib inline\n",
    "pd.options.display.max_colwidth = 1000  \n",
    "\n",
    "sys.path.append(script_dir+'/util')\n",
    "import parsers, util, kinematics\n",
    "import amino_acids as AA\n",
    "import symmetry\n",
    "from scipy.spatial.transform import Rotation as R\n",
    "\n",
    "\n",
    "sys.path.append(script_dir+'LA_scripts/')\n",
    "from get_rmsds_functions import TMalign\n",
    "from get_rmsds_functions import get_RMSD\n",
    "import check_interactions_to_lig\n"
   ]
  },
  {
   "cell_type": "markdown",
   "id": "24b0700b-86df-4dd3-bfe7-1d983312ca4f",
   "metadata": {},
   "source": [
    "## centering pdb"
   ]
  },
  {
   "cell_type": "code",
   "execution_count": null,
   "id": "901e3cf6-3ab8-4251-8518-9a6ce4bc023c",
   "metadata": {},
   "outputs": [],
   "source": [
    "def rotation_matrix_from_vectors(vec1, vec2):\n",
    "    \"\"\" Find the rotation matrix that aligns vec1 to vec2\n",
    "    :param vec1: A 3d \"source\" vector\n",
    "    :param vec2: A 3d \"destination\" vector\n",
    "    :return mat: A transform matrix (3x3) which when applied to vec1, aligns it with vec2.\n",
    "    \"\"\"\n",
    "    a, b = (vec1 / np.linalg.norm(vec1)).reshape(3), (vec2 / np.linalg.norm(vec2)).reshape(3)\n",
    "    v = np.cross(a, b)\n",
    "    c = np.dot(a, b)\n",
    "    s = np.linalg.norm(v)\n",
    "    kmat = np.array([[0, -v[2], v[1]], [v[2], 0, -v[0]], [-v[1], v[0], 0]])\n",
    "    rotation_matrix = np.eye(3) + kmat + kmat.dot(kmat) * ((1 - c) / (s ** 2))\n",
    "    return rotation_matrix"
   ]
  },
  {
   "cell_type": "code",
   "execution_count": null,
   "id": "ee006baf-7d46-441b-9f7e-2b6e70fcbdad",
   "metadata": {},
   "outputs": [],
   "source": [
    "pdbs = ['CHD_17971.pdb', 'CHD_4019.pdb', 'CHD_8651.pdb']\n",
    "for pdb in pdbs:\n",
    "    pdb = f'{home_dir}/{pdb}'\n",
    "\n",
    "    parsed = parsers.parse_pdb(pdb)\n",
    "\n",
    "    xyz_native = parsed['xyz']\n",
    "    seq_native = parsed['seq']\n",
    "\n",
    "    # center it at the origin and save for reference \n",
    "    outdir = f'{home_dir}/asu_pdbs/'\n",
    "    xyz_native_centered = xyz_native - xyz_native[:,1,:].mean(axis=0)\n",
    "\n",
    "    seq_torch = torch.from_numpy(seq_native)\n",
    "\n",
    "    pdb = os.path.basename(pdb)[:-4] #remove .pdb\n",
    "    util.writepdb(os.path.join(outdir, f'{pdb}_centered.pdb'), \n",
    "                  torch.from_numpy(xyz_native_centered), \n",
    "                  torch.ones_like(seq_torch),\n",
    "                  seq_torch)\n",
    "\n",
    "    ### oritened the cavity parrallel to the z-axis\n",
    "    S = symmetry.SymGen('C3',10,True) # recenter=10, but parameter not used for Cn\n",
    "    L_monomer = 40\n",
    "    rmsds = []\n",
    "\n",
    "    xyz = torch.clone(torch.from_numpy(xyz_native_centered))\n",
    "    seq = torch.clone(torch.from_numpy(seq_native))\n",
    "\n",
    "    i1 = 0\n",
    "    i2 = i1 + L_monomer\n",
    "    i3 = i2 + L_monomer\n",
    "\n",
    "    c1 = xyz[i1,1,:]\n",
    "    c2 = xyz[i2,1,:]\n",
    "    c3 = xyz[i3,1,:]\n",
    "\n",
    "\n",
    "    v1 = c2 - c1\n",
    "    v1 /= torch.norm(v1)\n",
    "\n",
    "    v2 = c3 - c1\n",
    "    v2 /= torch.norm(v2)\n",
    "\n",
    "    v3 = torch.cross(v1,v2)\n",
    "    v3 /= torch.norm(v3)\n",
    "\n",
    "    z = np.array([0,0,1])\n",
    "    Rz = torch.from_numpy( rotation_matrix_from_vectors(v3,z) )\n",
    "\n",
    "    # rotate coordinates \n",
    "    shape = xyz.shape\n",
    "    xyz_oriented = xyz.reshape(-1,3).float()@Rz.T.float()\n",
    "    xyz_oriented = xyz_oriented.reshape(shape)\n",
    "\n",
    "    fpath = os.path.join(outdir, f'{pdb}_centered_oriented.pdb')\n",
    "    if not os.path.exists(fpath):\n",
    "        util.writepdb(fpath, xyz_oriented, torch.ones_like(seq), seq)\n",
    "    sections = {'p1':0,'p2':40,'p3':80}\n",
    "\n",
    "    for indi_block in sections:\n",
    "\n",
    "        # slice out the ASU\n",
    "        start = sections[indi_block]\n",
    "        xyz_asu = xyz_oriented[start:start+L_monomer]\n",
    "        xyz_asu = torch.cat([xyz_asu]*3)\n",
    "        seq_asu = seq[start:start+L_monomer]\n",
    "        seq_asu = torch.cat([seq_asu]*3)\n",
    "\n",
    "        # symmetrize the sliced ASU  \n",
    "        xyz_symm,seq_symm = S.apply_symmetry(xyz_asu, seq_asu)\n",
    "\n",
    "        # calculate RMSD \n",
    "        A = xyz_symm[:,:3,:].numpy().reshape(-1,3)\n",
    "        B = xyz_oriented[:,:3,:].numpy().reshape(-1,3)\n",
    "        rmsd,_,_ = kinematics.np_kabsch(A,B)\n",
    "\n",
    "        chains = ['A']*40 + ['B']*40 + ['C']*40\n",
    "        util.writepdb(os.path.join(outdir, f'{pdb}_c3_{indi_block}.pdb'), \n",
    "                      xyz_symm,\n",
    "                      torch.ones_like(seq_symm),\n",
    "                      seq_symm)\n",
    "\n",
    "        rmsds.append((indi_block,rmsd))\n"
   ]
  },
  {
   "cell_type": "markdown",
   "id": "d4a8aff2-4808-40b2-a7d5-10b162868c81",
   "metadata": {},
   "source": [
    "### RFdiffusion scaffolding\n",
    "// using RFdiffusion to generate scaffold"
   ]
  },
  {
   "cell_type": "code",
   "execution_count": null,
   "id": "da7881ce-3ceb-491f-825e-d632f80a5e28",
   "metadata": {},
   "outputs": [],
   "source": [
    "python = '/path/to/rfdiffusion/python-envs'\n",
    "inference = '/net/databases/diffusion/github_repo/rf_diffusion/run_inference.py'\n",
    "cmd = f\"{python} {inference} -python /net/databases/diffusion/github_repo/rf_diffusion/run_inference.py scaffoldguided.scaffoldguided=True scaffoldguided.scaffold_dir=./adj_ss_pt/ inference.output_prefix=./pdb_out/adj_pt_design inference.input_pdb=./pdb/1622.pdb contigmap.contigs=[\\'A1-17,50,A22-57,49,A62-96,47,A102-120\\'] contigmap.inpaint_seq=[\\'A3,A6,A9,A10,A13-14,A16,A24,A27-28,A31-32,A34-35,A38-39,A43,A46,A49-50,A52-54,A56-57,A64,A68,A71-72,A74-76,A78-79,A83,A85-87,A89-90,A92-94,A96,A104,A107-108,A111-112,A114-115,A118-119\\'] potentials.guiding_potentials=[\\'type:binder_ncontacts\\'] potentials.guide_scale=2 potentials.guide_decay='quadratic' denoiser.noise_scale_ca=0.5 denoiser.noise_scale_frame=0.5 inference.num_designs=200 inference.final_step=50\""
   ]
  },
  {
   "cell_type": "markdown",
   "id": "762f16ce",
   "metadata": {},
   "source": [
    "### MPNN\n",
    "// sequence design newly generated scaffold"
   ]
  },
  {
   "cell_type": "code",
   "execution_count": null,
   "id": "1eb45b03",
   "metadata": {},
   "outputs": [],
   "source": [
    "python = 'path/to/MPNN/python-envs/'\n",
    "mpnn = f'{script_dir}/LA_scripts/toolkits/ligand_proteinmpnn/protein_mpnn_run.py' \n",
    "\n",
    "\n",
    "cmd =f'{python} {mpnn} --out_folder ./ --num_seq_per_target 8 --pdb_path pdb/P1D7_B9.pdb --pack_side_chains 1 --num_packs 1 --sampling_temp \"0.1 0.2\" --use_ligand 1 --tied_positions_jsonl pdb/tied_pos.jsonl --ligand_params_path pdb/CHD.params'"
   ]
  },
  {
   "cell_type": "markdown",
   "id": "68c8586c",
   "metadata": {},
   "source": [
    "### AlphaFold each mononer\n",
    "// af2 validate folding likelihood"
   ]
  },
  {
   "cell_type": "code",
   "execution_count": null,
   "id": "51e6d392",
   "metadata": {},
   "outputs": [],
   "source": [
    "python = '/path/to/af2/python-envs'\n",
    "run_af2 = f'{script_dir}/LA_scripts/toolkits/run_af2.py'\n",
    "cmd = f\"{python} {run_af2} -python {run_af2} -pdb {pdb}\""
   ]
  }
 ],
 "metadata": {
  "kernelspec": {
   "display_name": "Python 3 (ipykernel)",
   "language": "python",
   "name": "python3"
  },
  "language_info": {
   "codemirror_mode": {
    "name": "ipython",
    "version": 3
   },
   "file_extension": ".py",
   "mimetype": "text/x-python",
   "name": "python",
   "nbconvert_exporter": "python",
   "pygments_lexer": "ipython3",
   "version": "3.10.11"
  }
 },
 "nbformat": 4,
 "nbformat_minor": 5
}
